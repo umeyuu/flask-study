{
 "cells": [
  {
   "cell_type": "code",
   "execution_count": 2,
   "metadata": {},
   "outputs": [],
   "source": [
    "import os\n",
    "import numpy as np\n",
    "from PIL import Image\n",
    "import sqlite3\n",
    "from sklearn.datasets import load_digits\n",
    "from sklearn.linear_model import LogisticRegression\n",
    "from sklearn.model_selection import train_test_split"
   ]
  },
  {
   "attachments": {},
   "cell_type": "markdown",
   "metadata": {},
   "source": [
    "## データベースへアクセスする"
   ]
  },
  {
   "cell_type": "code",
   "execution_count": 5,
   "metadata": {},
   "outputs": [],
   "source": [
    "INCLUDED_EXTENTION = [\".png\", \".jpg\"]\n",
    "\n",
    "# 画像の入っているフォルダを指定し、中身のファイル名を取得\n",
    "# images.dbを新規作成。images.dbがすでに存在していれば、接続。\n",
    "dbname = 'images.db'\n",
    "# データベースへのコネクションオブジェクト作成\n",
    "conn = sqlite3.connect(dbname)\n",
    "# sqliteを操作するカーソルオブジェクトを作成\n",
    "cur = conn.cursor()\n",
    "# データベースの初期化\n",
    "cur.execute('DROP TABLE image_info')\n",
    "# image_infoというtableを作成。\n",
    "cur.execute('CREATE TABLE image_info (id INTEGER PRIMARY KEY AUTOINCREMENT, filename STRING)')\n",
    "# データベースへコミットし、変更を保存\n",
    "conn.commit()\n",
    "conn.close()\n",
    "\n",
    "# データベースに画像のファイル名を挿入\n",
    "conn = sqlite3.connect(dbname)\n",
    "cur = conn.cursor()\n",
    "filenames = sorted(os.listdir('handwriting_pics'))\n",
    "for filename in filenames:\n",
    "    base, ext = os.path.splitext(filename)\n",
    "    if ext not in INCLUDED_EXTENTION:\n",
    "        continue\n",
    "    cur.execute('INSERT INTO image_info(filename) values(?)', (filename,))\n",
    "conn.commit()\n",
    "cur.close()\n",
    "conn.close()\n",
    "\n",
    "# tableの中身を取得\n",
    "conn = sqlite3.connect(dbname)\n",
    "cur = conn.cursor()\n",
    "cur.execute('SELECT * FROM image_info')\n",
    "# fetchall()を使って中身を全て取得\n",
    "pics_info = cur.fetchall()\n",
    "cur.close()\n",
    "conn.close()"
   ]
  },
  {
   "cell_type": "code",
   "execution_count": null,
   "metadata": {},
   "outputs": [],
   "source": []
  }
 ],
 "metadata": {
  "kernelspec": {
   "display_name": "env",
   "language": "python",
   "name": "python3"
  },
  "language_info": {
   "codemirror_mode": {
    "name": "ipython",
    "version": 3
   },
   "file_extension": ".py",
   "mimetype": "text/x-python",
   "name": "python",
   "nbconvert_exporter": "python",
   "pygments_lexer": "ipython3",
   "version": "3.9.7"
  },
  "orig_nbformat": 4,
  "vscode": {
   "interpreter": {
    "hash": "0a717a7306b9c2d6ec47c6796b2891ea5f37aa7b60809291da7a4d3a474d4dab"
   }
  }
 },
 "nbformat": 4,
 "nbformat_minor": 2
}
