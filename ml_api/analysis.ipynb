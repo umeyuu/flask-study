{
 "cells": [
  {
   "cell_type": "code",
   "execution_count": 1,
   "metadata": {},
   "outputs": [],
   "source": [
    "import os\n",
    "import numpy as np\n",
    "from PIL import Image\n",
    "import sqlite3\n",
    "from sklearn.datasets import load_digits\n",
    "from sklearn.linear_model import LogisticRegression\n",
    "from sklearn.model_selection import train_test_split"
   ]
  },
  {
   "attachments": {},
   "cell_type": "markdown",
   "metadata": {},
   "source": [
    "## データベースへアクセスする"
   ]
  },
  {
   "cell_type": "code",
   "execution_count": 5,
   "metadata": {},
   "outputs": [],
   "source": [
    "INCLUDED_EXTENTION = [\".png\", \".jpg\"]\n",
    "\n",
    "# 画像の入っているフォルダを指定し、中身のファイル名を取得\n",
    "# images.dbを新規作成。images.dbがすでに存在していれば、接続。\n",
    "dbname = 'images.db'\n",
    "# データベースへのコネクションオブジェクト作成\n",
    "conn = sqlite3.connect(dbname)\n",
    "# sqliteを操作するカーソルオブジェクトを作成\n",
    "cur = conn.cursor()\n",
    "# データベースの初期化\n",
    "cur.execute('DROP TABLE image_info')\n",
    "# image_infoというtableを作成。\n",
    "cur.execute('CREATE TABLE image_info (id INTEGER PRIMARY KEY AUTOINCREMENT, filename STRING)')\n",
    "# データベースへコミットし、変更を保存\n",
    "conn.commit()\n",
    "conn.close()\n",
    "\n",
    "# データベースに画像のファイル名を挿入\n",
    "conn = sqlite3.connect(dbname)\n",
    "cur = conn.cursor()\n",
    "filenames = sorted(os.listdir('handwriting_pics'))\n",
    "for filename in filenames:\n",
    "    base, ext = os.path.splitext(filename)\n",
    "    if ext not in INCLUDED_EXTENTION:\n",
    "        continue\n",
    "    cur.execute('INSERT INTO image_info(filename) values(?)', (filename,))\n",
    "conn.commit()\n",
    "cur.close()\n",
    "conn.close()\n",
    "\n",
    "# tableの中身を取得\n",
    "conn = sqlite3.connect(dbname)\n",
    "cur = conn.cursor()\n",
    "cur.execute('SELECT * FROM image_info')\n",
    "# fetchall()を使って中身を全て取得\n",
    "pics_info = cur.fetchall()\n",
    "cur.close()\n",
    "conn.close()"
   ]
  },
  {
   "attachments": {},
   "cell_type": "markdown",
   "metadata": {},
   "source": [
    "## データの前処理をする"
   ]
  },
  {
   "cell_type": "code",
   "execution_count": 7,
   "metadata": {},
   "outputs": [],
   "source": [
    "img_test = np.empty((0, 64))\n",
    "#　フォルダ内の全画像をデータ化\n",
    "for pic_info in pics_info:\n",
    "    filename = pic_info[1]\n",
    "    #　画像ファイルを取得、グレースケールにしてサイズ変更\n",
    "    base, ext = os.path.splitext(filename)\n",
    "    if ext not in INCLUDED_EXTENTION:\n",
    "        continue\n",
    "    img = Image.open(f'handwriting_pics/{filename}').convert('L')\n",
    "    img_data256 = 255 - np.array(img.resize((8, 8)))\n",
    "\n",
    "    #画像データ内の最小値が0、最大値が16になるように計算\n",
    "    min_bright = img_data256.min()\n",
    "    max_bright = img_data256.max()\n",
    "    img_data16 = (img_data256 - min_bright) / (max_bright - min_bright) * 16\n",
    "    #加工した画像データの配列をまとめる\n",
    "    img_test = np.r_[img_test, img_data16.astype(np.uint8).reshape(1, -1)]"
   ]
  },
  {
   "attachments": {},
   "cell_type": "markdown",
   "metadata": {},
   "source": [
    "## 学習と予測"
   ]
  },
  {
   "cell_type": "code",
   "execution_count": 9,
   "metadata": {},
   "outputs": [
    {
     "name": "stdout",
     "output_type": "stream",
     "text": [
      "手書き文字の判別結果\n",
      "観測結果: [0 1 2 3 4 5 6 7 8 9]\n",
      "予測結果: [4 4 4 4 4 4 4 7 4 4]\n",
      "正解率: 0.2\n"
     ]
    },
    {
     "name": "stderr",
     "output_type": "stream",
     "text": [
      "/home/umeyuu/flask-study/ml_api/env/lib/python3.9/site-packages/sklearn/linear_model/_logistic.py:458: ConvergenceWarning: lbfgs failed to converge (status=1):\n",
      "STOP: TOTAL NO. of ITERATIONS REACHED LIMIT.\n",
      "\n",
      "Increase the number of iterations (max_iter) or scale the data as shown in:\n",
      "    https://scikit-learn.org/stable/modules/preprocessing.html\n",
      "Please also refer to the documentation for alternative solver options:\n",
      "    https://scikit-learn.org/stable/modules/linear_model.html#logistic-regression\n",
      "  n_iter_i = _check_optimize_result(\n"
     ]
    }
   ],
   "source": [
    "# 教師データ\n",
    "digits = load_digits()\n",
    "X = digits.data\n",
    "y = digits.target\n",
    "#教師データとテストデータに分ける\n",
    "X_train, X_test, y_train, y_test = train_test_split(X, y, test_size=0.5, random_state=0)\n",
    "#ロジスティック回帰のモデルの作成し、教師データを使って学習させる\n",
    "logreg = LogisticRegression(max_iter=2000)\n",
    "logreg_model = logreg.fit(X_train, y_train)\n",
    "\n",
    "# 画像データの判別\n",
    "X_true = []\n",
    "for filename in filenames:\n",
    "    base, ext = os.path.splitext(filename)\n",
    "    if ext not in INCLUDED_EXTENTION:\n",
    "        continue\n",
    "    X_true = X_true + [int(filename[:1])]\n",
    "X_true = np.array(X_true)\n",
    "\n",
    "#ロジスティック回帰の学習済みモデルに画像データを入れ、判別\n",
    "pred_logreg = logreg_model.predict(img_test)\n",
    "\n",
    "print('手書き文字の判別結果')\n",
    "print('観測結果:', X_true)\n",
    "print('予測結果:', pred_logreg)\n",
    "print('正解率:', logreg_model.score(img_test, X_true))\n"
   ]
  },
  {
   "attachments": {},
   "cell_type": "markdown",
   "metadata": {},
   "source": [
    "## 上記のコードをモジュール分割"
   ]
  },
  {
   "cell_type": "code",
   "execution_count": 18,
   "metadata": {},
   "outputs": [],
   "source": [
    "INCLUDED_EXTENTION = [\".png\", \".jpg\"] # DBにいれる拡張子\n",
    "dbname = 'images.db' # DBの名前\n",
    "dir_name = 'handwriting_pics' # 画像があるディレクトリ\n",
    "\n",
    "# 手書き文字画像が置いてあるパスからファイル名を取得し、リストを作成\n",
    "def load_filenames(dir_name, included_ext=INCLUDED_EXTENTION):\n",
    "    files = []\n",
    "    filenames = sorted(os.listdir(dir_name))\n",
    "    for filename in filenames:\n",
    "        base, ext = os.path.splitext(filename)\n",
    "        if ext not in included_ext:\n",
    "            continue\n",
    "        files.append(filename)\n",
    "    return files\n",
    "\n",
    "# テーブルを作成する関数\n",
    "def create_table(dbname):\n",
    "    conn = sqlite3.connect(dbname)\n",
    "    cur = conn.cursor()\n",
    "    cur.execute('DROP TABLE IF EXISTS image_info')\n",
    "    cur.execute( 'CREATE TABLE image_info (id INTEGER PRIMARY KEY AUTOINCREMENT, filename STRING)')\n",
    "    conn.commit()\n",
    "    conn.close()\n",
    "    print(\"table is successully created\")\n",
    "\n",
    "# 手書き文字画像のファイル名をデータベースに保存\n",
    "def insert_filenames(dbname, dir_name):\n",
    "    filenames = load_filenames(dir_name)\n",
    "    conn = sqlite3.connect(dbname)\n",
    "    cur = conn.cursor()\n",
    "    for filename in filenames:\n",
    "        cur.execute('INSERT INTO image_info(filename) values(?)', (filename,))\n",
    "    conn.commit()\n",
    "    cur.close()\n",
    "    conn.close()\n",
    "    print(\"image file names are successully inserted\")\n",
    "\n",
    "# 手書き文字画像のファイル名をデータベースから取得\n",
    "def extract_filenames(dbname):\n",
    "    conn = sqlite3.connect(dbname)\n",
    "    cur = conn.cursor()\n",
    "    cur.execute( 'SELECT * FROM image_info')\n",
    "    filenames = cur.fetchall()\n",
    "    cur.close()\n",
    "    conn.close()\n",
    "    return filenames"
   ]
  },
  {
   "cell_type": "code",
   "execution_count": 19,
   "metadata": {},
   "outputs": [
    {
     "name": "stdout",
     "output_type": "stream",
     "text": [
      "table is successully created\n",
      "image file names are successully inserted\n"
     ]
    },
    {
     "data": {
      "text/plain": [
       "[(1, '0.jpg'),\n",
       " (2, '1.jpg'),\n",
       " (3, '2.jpg'),\n",
       " (4, '3.jpg'),\n",
       " (5, '4.jpg'),\n",
       " (6, '5.jpg'),\n",
       " (7, '6.jpg'),\n",
       " (8, '7.jpg'),\n",
       " (9, '8.jpg'),\n",
       " (10, '9.jpg')]"
      ]
     },
     "execution_count": 19,
     "metadata": {},
     "output_type": "execute_result"
    }
   ],
   "source": [
    "create_table(dbname)\n",
    "insert_filenames(dbname, dir_name)\n",
    "extract_filenames(dbname)"
   ]
  },
  {
   "cell_type": "code",
   "execution_count": 20,
   "metadata": {},
   "outputs": [],
   "source": [
    "# 読み込んだ手書き文字画像の色をグレースケールに変換する関数\n",
    "def get_grayscale(dir_name):\n",
    "    filenames = load_filenames(dir_name)\n",
    "    for filename in filenames:\n",
    "        img = Image.open(f'{dir_name}/{filename}').convert('L')\n",
    "        yield img\n",
    "\n",
    "# 画像サイズを8×8ピクセルのサイズに統一し、明るさも16階調のグレイスケールで白黒に変換する関数\n",
    "def get_shrinked_img(dir_name):\n",
    "    img_test = np.empty((0, 64))\n",
    "    crop_size = 8\n",
    "    for img in get_grayscale(dir_name):\n",
    "        img_data256 = 255 - np.array(img.resize((crop_size, crop_size)))\n",
    "        min_bright, max_bright = img_data256.min(),  img_data256.max()\n",
    "        img_data16 = (img_data256 - min_bright) / (max_bright - min_bright) * 16\n",
    "        img_test = np.r_[img_test, img_data16.astype(np.uint8).reshape(1, -1)]\n",
    "    return img_test\n"
   ]
  },
  {
   "cell_type": "code",
   "execution_count": 22,
   "metadata": {},
   "outputs": [
    {
     "data": {
      "text/plain": [
       "array([[ 0.,  0.,  0.,  0.,  0.,  0.,  0.,  0.,  0.,  0.,  0.,  0.,  0.,\n",
       "         0.,  0.,  0.,  0.,  0.,  0.,  8., 16.,  0.,  0.,  0.,  0.,  0.,\n",
       "         0., 16., 16.,  8.,  0.,  0.,  0.,  0.,  0.,  8.,  8.,  8.,  0.,\n",
       "         0.,  0.,  0.,  0.,  8., 16.,  0.,  0.,  0.,  0.,  0.,  0.,  0.,\n",
       "         0.,  0.,  0.,  0.,  0.,  0.,  0.,  0.,  0.,  0.,  0.,  0.],\n",
       "       [ 0.,  0.,  0.,  0.,  0.,  0.,  0.,  0.,  0.,  0.,  0.,  0.,  0.,\n",
       "         0.,  0.,  0.,  0.,  0.,  0., 16.,  0.,  0.,  0.,  0.,  0.,  0.,\n",
       "         0.,  8.,  0.,  0.,  0.,  0.,  0.,  0.,  0.,  8.,  0.,  0.,  0.,\n",
       "         0.,  0.,  0.,  0.,  0.,  0.,  0.,  0.,  0.,  0.,  0.,  0.,  0.,\n",
       "         0.,  0.,  0.,  0.,  0.,  0.,  0.,  0.,  0.,  0.,  0.,  0.],\n",
       "       [ 0.,  0.,  0.,  0.,  0.,  0.,  0.,  0.,  0.,  0.,  0.,  3.,  3.,\n",
       "         0.,  0.,  0.,  0.,  0.,  0.,  6.,  3.,  0.,  0.,  0.,  0.,  0.,\n",
       "         3.,  3.,  3.,  0.,  0.,  0.,  0.,  0.,  0.,  0.,  9.,  3.,  0.,\n",
       "         0.,  0.,  0.,  3., 16.,  9.,  6.,  0.,  0.,  0.,  0.,  3.,  3.,\n",
       "         0.,  0.,  0.,  0.,  0.,  0.,  0.,  0.,  0.,  0.,  0.,  0.],\n",
       "       [ 0.,  0.,  0.,  0.,  0.,  0.,  0.,  0.,  0.,  0.,  8.,  8., 10.,\n",
       "         0.,  0.,  0.,  0.,  2.,  8., 10., 13.,  0.,  0.,  0.,  0.,  5.,\n",
       "        16., 13., 10., 10.,  2.,  0.,  0.,  0.,  0.,  0.,  0., 10.,  5.,\n",
       "         0.,  0.,  8., 10., 10., 10.,  8.,  0.,  0.,  0.,  0.,  2.,  0.,\n",
       "         0.,  0.,  0.,  0.,  0.,  0.,  0.,  0.,  0.,  0.,  0.,  0.],\n",
       "       [ 0.,  0.,  0.,  4.,  2.,  0.,  0.,  0.,  0.,  0.,  2., 16.,  2.,\n",
       "         0.,  0.,  0.,  0.,  2., 10.,  8.,  2.,  0.,  0.,  0.,  0.,  8.,\n",
       "        12., 16., 12.,  8.,  0.,  0.,  0.,  0.,  0.,  8.,  4.,  2.,  0.,\n",
       "         0.,  0.,  0.,  0.,  8.,  2.,  0.,  0.,  0.,  0.,  0.,  0.,  2.,\n",
       "         0.,  0.,  0.,  0.,  0.,  0.,  0.,  0.,  0.,  0.,  0.,  0.],\n",
       "       [ 0.,  0.,  0.,  0.,  0.,  0.,  0.,  0.,  0.,  6.,  6.,  0.,  0.,\n",
       "         0.,  0.,  0.,  0., 12., 16., 12.,  9.,  0.,  0.,  0.,  0.,  9.,\n",
       "         9.,  9.,  6.,  0.,  0.,  0.,  0.,  3.,  9.,  6.,  9.,  9.,  0.,\n",
       "         0.,  0.,  0.,  3.,  3.,  9., 12.,  0.,  0.,  0.,  0.,  9.,  9.,\n",
       "         6.,  0.,  0.,  0.,  0.,  0.,  0.,  0.,  0.,  0.,  0.,  0.],\n",
       "       [ 0.,  0.,  5.,  2.,  0.,  0.,  0.,  0.,  0.,  8.,  8.,  2.,  0.,\n",
       "         0.,  0.,  0.,  0., 10.,  0.,  0.,  0.,  0.,  0.,  0.,  0., 16.,\n",
       "        10., 10.,  8.,  0.,  0.,  0.,  0., 10.,  5.,  0.,  8.,  5.,  0.,\n",
       "         0.,  0.,  0., 10.,  5.,  8.,  8.,  0.,  0.,  0.,  0.,  0.,  5.,\n",
       "         8.,  0.,  0.,  0.,  0.,  0.,  0.,  0.,  0.,  0.,  0.,  0.],\n",
       "       [ 0.,  0.,  0.,  0.,  0.,  0.,  0.,  0.,  0., 12., 12., 12., 12.,\n",
       "         8.,  0.,  0.,  4., 16.,  4.,  4.,  8., 16.,  0.,  0.,  0.,  0.,\n",
       "         0.,  0., 12.,  8.,  0.,  0.,  0.,  0.,  0.,  0., 16.,  0.,  0.,\n",
       "         0.,  0.,  0.,  0.,  8., 12.,  0.,  0.,  0.,  0.,  0.,  0.,  8.,\n",
       "         4.,  0.,  0.,  0.,  0.,  0.,  0.,  0.,  0.,  0.,  0.,  0.],\n",
       "       [ 0.,  0.,  4.,  2.,  0.,  0.,  0.,  0.,  0.,  8.,  6.,  8.,  4.,\n",
       "         0.,  0.,  0.,  0.,  8.,  4.,  0., 10.,  2.,  0.,  0.,  0.,  0.,\n",
       "        10., 16.,  8.,  0.,  0.,  0.,  0.,  4.,  8.,  2.,  8.,  0.,  0.,\n",
       "         0.,  0., 10.,  0.,  0.,  8.,  0.,  0.,  0.,  0.,  4.,  8.,  8.,\n",
       "         2.,  0.,  0.,  0.,  0.,  0.,  0.,  0.,  0.,  0.,  0.,  0.],\n",
       "       [ 0.,  2.,  4.,  2.,  2.,  0.,  0.,  0.,  2.,  8.,  4.,  4.,  6.,\n",
       "         6.,  2.,  0.,  0.,  8.,  2.,  0.,  0., 16.,  4.,  0.,  0.,  2.,\n",
       "         8.,  6.,  8., 12.,  0.,  0.,  0.,  0.,  0.,  0.,  8.,  2.,  0.,\n",
       "         0.,  0.,  0.,  0.,  2.,  6.,  0.,  0.,  0.,  0.,  0.,  0.,  6.,\n",
       "         2.,  0.,  0.,  0.,  0.,  0.,  0.,  2.,  0.,  0.,  0.,  0.]])"
      ]
     },
     "execution_count": 22,
     "metadata": {},
     "output_type": "execute_result"
    }
   ],
   "source": [
    "get_shrinked_img(dir_name)"
   ]
  },
  {
   "cell_type": "code",
   "execution_count": 23,
   "metadata": {},
   "outputs": [
    {
     "name": "stdout",
     "output_type": "stream",
     "text": [
      "手書き文字の判別結果\n",
      "観測結果: [0 1 2 3 4 5 6 7 8 9]\n",
      "予測結果: [4 4 4 4 4 4 4 7 4 4]\n",
      "正解率: 0.2\n"
     ]
    },
    {
     "name": "stderr",
     "output_type": "stream",
     "text": [
      "/home/umeyuu/flask-study/ml_api/env/lib/python3.9/site-packages/sklearn/linear_model/_logistic.py:458: ConvergenceWarning: lbfgs failed to converge (status=1):\n",
      "STOP: TOTAL NO. of ITERATIONS REACHED LIMIT.\n",
      "\n",
      "Increase the number of iterations (max_iter) or scale the data as shown in:\n",
      "    https://scikit-learn.org/stable/modules/preprocessing.html\n",
      "Please also refer to the documentation for alternative solver options:\n",
      "    https://scikit-learn.org/stable/modules/linear_model.html#logistic-regression\n",
      "  n_iter_i = _check_optimize_result(\n"
     ]
    },
    {
     "data": {
      "text/plain": [
       "'Propability calculation is successfully finished'"
      ]
     },
     "execution_count": 23,
     "metadata": {},
     "output_type": "execute_result"
    }
   ],
   "source": [
    "\n",
    "def create_logreg_model():\n",
    "    digits = load_digits()\n",
    "    X = digits.data\n",
    "    y = digits.target\n",
    "    X_train, X_test, y_train, y_test = train_test_split(X, y, test_size=0.5, random_state=0)\n",
    "    logreg = LogisticRegression(max_iter=2000)\n",
    "    logreg_model = logreg.fit(X_train, y_train)\n",
    "    return logreg_model\n",
    "\n",
    "# テストデータを利用してロジスティック回帰の学習済みモデルのアウトプットを評価\n",
    "def evaluate_probs(dir_name, img_test, logreg_model):\n",
    "    filenames = load_filenames(dir_name)\n",
    "    X_true = [int(filename[:1]) for filename in filenames]  \n",
    "    X_true = np.array(X_true)\n",
    "    pred_logreg = logreg_model.predict(img_test)\n",
    "    \n",
    "    print('手書き文字の判別結果')\n",
    "    print('観測結果:', X_true)\n",
    "    print('予測結果:', pred_logreg)\n",
    "    print('正解率:', logreg_model.score(img_test, X_true))\n",
    "    return \"Propability calculation is successfully finished\"\n",
    "\n",
    "logreg_model = create_logreg_model()\n",
    "evaluate_probs(dir_name, img_test, logreg_model)"
   ]
  },
  {
   "attachments": {},
   "cell_type": "markdown",
   "metadata": {},
   "source": [
    "## 学習済みモデルを作成"
   ]
  },
  {
   "cell_type": "code",
   "execution_count": 24,
   "metadata": {},
   "outputs": [
    {
     "name": "stderr",
     "output_type": "stream",
     "text": [
      "/home/umeyuu/flask-study/ml_api/env/lib/python3.9/site-packages/sklearn/linear_model/_logistic.py:458: ConvergenceWarning: lbfgs failed to converge (status=1):\n",
      "STOP: TOTAL NO. of ITERATIONS REACHED LIMIT.\n",
      "\n",
      "Increase the number of iterations (max_iter) or scale the data as shown in:\n",
      "    https://scikit-learn.org/stable/modules/preprocessing.html\n",
      "Please also refer to the documentation for alternative solver options:\n",
      "    https://scikit-learn.org/stable/modules/linear_model.html#logistic-regression\n",
      "  n_iter_i = _check_optimize_result(\n"
     ]
    }
   ],
   "source": [
    "import pickle\n",
    "\n",
    "digits = load_digits()\n",
    "X = digits.data\n",
    "y = digits.target\n",
    "X_train, X_test, y_train, y_test = train_test_split(X, y, test_size=0.5, random_state=0)\n",
    "\n",
    "logreg = LogisticRegression(max_iter=2000)\n",
    "model = logreg.fit(X_train, y_train)\n",
    "with open('model.pickle', mode='wb') as fp:\n",
    "    pickle.dump(model, fp)"
   ]
  },
  {
   "cell_type": "code",
   "execution_count": null,
   "metadata": {},
   "outputs": [],
   "source": []
  }
 ],
 "metadata": {
  "kernelspec": {
   "display_name": "env",
   "language": "python",
   "name": "python3"
  },
  "language_info": {
   "codemirror_mode": {
    "name": "ipython",
    "version": 3
   },
   "file_extension": ".py",
   "mimetype": "text/x-python",
   "name": "python",
   "nbconvert_exporter": "python",
   "pygments_lexer": "ipython3",
   "version": "3.9.7"
  },
  "orig_nbformat": 4,
  "vscode": {
   "interpreter": {
    "hash": "0a717a7306b9c2d6ec47c6796b2891ea5f37aa7b60809291da7a4d3a474d4dab"
   }
  }
 },
 "nbformat": 4,
 "nbformat_minor": 2
}
